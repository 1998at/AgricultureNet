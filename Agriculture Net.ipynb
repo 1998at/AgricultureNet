{
 "cells": [
  {
   "cell_type": "code",
   "execution_count": 1,
   "metadata": {
    "colab": {},
    "colab_type": "code",
    "collapsed": true,
    "id": "bjwqokS89dTt"
   },
   "outputs": [],
   "source": [
    "import numpy as np\n",
    "import pandas as pd\n",
    "import torch \n",
    "from torch.utils.data import Dataset\n",
    "from torch.utils.data import DataLoader as DL\n",
    "import torch.nn as nn\n",
    "import json\n",
    "from PIL import Image as Im\n",
    "import os"
   ]
  },
  {
   "cell_type": "code",
   "execution_count": 2,
   "metadata": {
    "colab": {
     "base_uri": "https://localhost:8080/",
     "height": 122
    },
    "colab_type": "code",
    "id": "SDZJm7os9oXX",
    "outputId": "8879b18f-c2b6-45f7-88d2-98dca94ed358"
   },
   "outputs": [
    {
     "name": "stdout",
     "output_type": "stream",
     "text": [
      "Go to this URL in a browser: https://accounts.google.com/o/oauth2/auth?client_id=947318989803-6bn6qk8qdgf4n4g3pfee6491hc0brc4i.apps.googleusercontent.com&redirect_uri=urn%3Aietf%3Awg%3Aoauth%3A2.0%3Aoob&scope=email%20https%3A%2F%2Fwww.googleapis.com%2Fauth%2Fdocs.test%20https%3A%2F%2Fwww.googleapis.com%2Fauth%2Fdrive%20https%3A%2F%2Fwww.googleapis.com%2Fauth%2Fdrive.photos.readonly%20https%3A%2F%2Fwww.googleapis.com%2Fauth%2Fpeopleapi.readonly&response_type=code\n",
      "\n",
      "Enter your authorization code:\n",
      "··········\n",
      "Mounted at /content/drive\n"
     ]
    }
   ],
   "source": [
    "from google.colab import drive\n",
    "drive.mount('/content/drive')"
   ]
  },
  {
   "cell_type": "code",
   "execution_count": 3,
   "metadata": {
    "colab": {},
    "colab_type": "code",
    "collapsed": true,
    "id": "Lmwg7A1m9j8m"
   },
   "outputs": [],
   "source": [
    "!cp \"/content/drive/My Drive/Agriculture_sat_view.zip\" \"Ag.zip\"\n",
    "!unzip \"Ag.zip\""
   ]
  },
  {
   "cell_type": "code",
   "execution_count": 4,
   "metadata": {
    "colab": {},
    "colab_type": "code",
    "collapsed": true,
    "id": "HjQA_rZL9lsc"
   },
   "outputs": [],
   "source": [
    "!cp  \"/content/drive/My Drive/val_81.9.pth\" \"val_81.9.pth\"\n",
    "!cp  \"/content/drive/My Drive/val_list.npy\"  \"val_list.npy\"  \n",
    "##Instead Of Using Continuos Value Range For Validation ex [1400:] I created the validation set using and saved the list so to use same list(i.e same validation for all Training) using np.random.permutation(1593)[:180]"
   ]
  },
  {
   "cell_type": "markdown",
   "metadata": {},
   "source": [
    "## Creating Own Image Augmentation For More Than 3 Channels "
   ]
  },
  {
   "cell_type": "code",
   "execution_count": 5,
   "metadata": {
    "collapsed": true
   },
   "outputs": [],
   "source": [
    "def applytransform(x,y,mode):\n",
    "  return x,y\n",
    "  if mode==\"val\" :\n",
    "    \n",
    "    return x,y\n",
    "     \n",
    "  \n",
    "  if random.random()<=0.5:\n",
    "    return x,y\n",
    "  else:\n",
    "    r=random.random()\n",
    "    if r<=0.5:\n",
    "      \n",
    "      for i in range(len(x)):x[i]=np.fliplr(x[i])\n",
    "      y=np.fliplr(y)\n",
    "    if r>=0.5:\n",
    "      for i in range(len(x)):x[i]=np.flipud(x[i])\n",
    "      y=np.flipud(y)\n",
    "    if random.random()>=0.5:\n",
    "      k=random.randint(0,3)\n",
    "      for i in range(len(x)):x[i]=np.rot90(x[i],k)\n",
    "      y=np.rot90(y,k)\n",
    "    return x,y"
   ]
  },
  {
   "cell_type": "code",
   "execution_count": 6,
   "metadata": {
    "colab": {},
    "colab_type": "code",
    "collapsed": true,
    "id": "ecJRbUJe-B0C"
   },
   "outputs": [],
   "source": [
    "def combine_image(mask_path,file_name,mode,resize=None):\n",
    "  mask_file_path=mask_path+\"/\"+file_name\n",
    "  \n",
    "  mask=Im.open(mask_file_path)\n",
    "  file_path=mask_path.replace(\"target\",\"input\")\n",
    "  file_name=file_name.replace(\"cdl\",\"lc8\")\n",
    "  file_name=file_name.split(\".\")[0]\n",
    "  file_path=file_path+\"/\"+file_name\n",
    "  a=Im.open(file_path+\"_1.tif\")\n",
    "  a=np.array(a)/255\n",
    "  a=torch.from_numpy(a[None])\n",
    "  for i in range(1,7):\n",
    "    im=Im.open(file_path+\"_\"+str(i+1)+\".tif\")\n",
    "    b=np.array(im)/255\n",
    "    b=torch.from_numpy(b[None])\n",
    "    a=torch.cat((a,b),dim=0)\n",
    "  a=a.type('torch.FloatTensor')\n",
    "    \n",
    "  return applytransform(a,torch.from_numpy(np.array(mask))) \n",
    "  "
   ]
  },
  {
   "cell_type": "code",
   "execution_count": 7,
   "metadata": {
    "colab": {},
    "colab_type": "code",
    "collapsed": true,
    "id": "osHmTMCd-CLQ"
   },
   "outputs": [],
   "source": [
    "class AGNet(Dataset):\n",
    "    def __init__(self,root,mask_list,transforms=None):\n",
    "        self.root=root\n",
    "        self.mask_list=mask_list\n",
    "        self.transformation=transforms\n",
    "    def __len__(self):\n",
    "        return len(self.mask_list)\n",
    "    def __getitem__(self,i):\n",
    "      \n",
    "      #print(self.mask_list[i])\n",
    "      x,y=combine_image(self.root+\"/target\",self.mask_list[i],\"val\")\n",
    "      return x,y\n",
    "        "
   ]
  },
  {
   "cell_type": "code",
   "execution_count": 8,
   "metadata": {
    "colab": {},
    "colab_type": "code",
    "collapsed": true,
    "id": "RwQEAgCr-D3O"
   },
   "outputs": [],
   "source": [
    "path='Agriculture_sat_view'\n",
    "full_data=AGNet(path,os.listdir(path+\"/target\")[0:1593])"
   ]
  },
  {
   "cell_type": "code",
   "execution_count": 9,
   "metadata": {
    "colab": {},
    "colab_type": "code",
    "collapsed": true,
    "id": "99QBM60r-Vs8"
   },
   "outputs": [],
   "source": []
  },
  {
   "cell_type": "code",
   "execution_count": 10,
   "metadata": {
    "colab": {},
    "colab_type": "code",
    "collapsed": true,
    "id": "KVVdxoDD-n8f"
   },
   "outputs": [],
   "source": [
    "def Conv(ni,nf,kernel_size=3,stride=1):\n",
    "  return (nn.Sequential(*[nn.Conv2d(ni,nf,stride=stride,kernel_size=kernel_size,padding=kernel_size//2),nn.BatchNorm2d(nf),nn.ReLU()]))\n",
    "\n",
    "\n",
    "\n",
    "class Scse(nn.Module):\n",
    "  def __init__(self,ni):\n",
    "    super().__init__()\n",
    "    self.cSE = nn.Sequential(nn.AdaptiveAvgPool2d(1),\n",
    "                             nn.Conv2d(ni,ni//2,1),\n",
    "                             nn.ReLU(inplace=True),\n",
    "                             nn.Conv2d(ni//2, ni,1),\n",
    "                             nn.Sigmoid()\n",
    "                               )\n",
    "    self.sSE = nn.Sequential(nn.Conv2d(ni,ni,1),\n",
    "                             nn.Sigmoid())\n",
    "  def forward(self,x):\n",
    "    \n",
    "    x=torch.addcmul(x * self.cSE(x), 1, x, self.sSE(x))\n",
    "    return x\n",
    "\n",
    "\n",
    "class DownBlock(nn.Module):\n",
    "  def __init__(self,ni,nf,scale_factor=2,down=None):\n",
    "    super().__init__()\n",
    "    self.conv1=Conv(ni,nf,stride=2)\n",
    "    self.conv2=Conv(nf,nf)\n",
    "    if down is not None:\n",
    "      \n",
    "      self.scse_encoder=Scse(nf)\n",
    "    else:self.scse_encoder=None\n",
    "  def forward(self,x):\n",
    "    inp=x\n",
    "    x=self.conv2(self.conv1(x))\n",
    "    x+=self.conv1(inp)\n",
    "    if self.scse_encoder is None:return x\n",
    "    return self.scse_encoder(x)\n",
    "\n",
    "\n",
    "\n",
    "class UpBlock(nn.Module):\n",
    "  def __init__(self,ni,nf,down=None):\n",
    "    super().__init__()\n",
    "    self.deconv1=nn.ConvTranspose2d(ni,nf,2,stride=2)\n",
    "    self.conv=Conv(2*nf,nf)\n",
    "    if down is not None:\n",
    "      self.scse_decoder=Scse(nf)\n",
    "    else:self.scse_decoder=None\n",
    "  def forward(self,down,cross):\n",
    "    x=self.deconv1(down)\n",
    "    x=torch.cat((x,cross),dim=1)\n",
    "    x=self.conv(x)\n",
    "    if self.scse_decoder is None:return x\n",
    "    return self.scse_decoder(x)\n",
    "\n",
    "\n",
    "\n",
    "class Net(nn.Module):\n",
    "  def __init__(self):\n",
    "    super().__init__()\n",
    "    self.d1=nn.Conv2d(7,28,kernel_size=5,padding=2,stride=1)\n",
    "    self.d2=nn.Conv2d(28,98,kernel_size=3,padding=1,stride=1)\n",
    "    self.down1=DownBlock(7,128,down=12)##64*64*128\n",
    "    self.down2=DownBlock(128,256)##32*32*256\n",
    "    self.down3=DownBlock(256,512)##16*16*512\n",
    "    self.down4=DownBlock(512,1024)##8*8*1024\n",
    "    self.up1=UpBlock(1024,512)#16*16*512\n",
    "    self.up2=UpBlock(512,256,down=12)#32\n",
    "    self.up3=UpBlock(256,128)#64\n",
    "    self.fin=nn.ConvTranspose2d(128,256,2,stride=2)\n",
    "  def forward(self,down):\n",
    "    d1=self.down1(down)\n",
    "    d2=self.down2(d1)\n",
    "    d3=self.down3(d2)\n",
    "    d4=self.down4(d3)\n",
    "    d4=self.up1(d4,d3)\n",
    "    d5=self.up2(d4,d2)\n",
    "    d5=self.up3(d5,d1)\n",
    "    return self.fin(d5)\n",
    "    \n",
    "    \n",
    "    \n",
    "    "
   ]
  },
  {
   "cell_type": "code",
   "execution_count": 11,
   "metadata": {
    "colab": {},
    "colab_type": "code",
    "collapsed": true,
    "id": "bUXNo6qJ-3_0"
   },
   "outputs": [],
   "source": [
    "m=Net().cuda()"
   ]
  },
  {
   "cell_type": "code",
   "execution_count": 12,
   "metadata": {
    "colab": {},
    "colab_type": "code",
    "collapsed": true,
    "id": "EaC-u5Z2-tgp"
   },
   "outputs": [],
   "source": [
    "m.load_state_dict(torch.load(\"val_81.9.pth\"))"
   ]
  },
  {
   "cell_type": "code",
   "execution_count": 13,
   "metadata": {
    "colab": {
     "base_uri": "https://localhost:8080/",
     "height": 34
    },
    "colab_type": "code",
    "id": "DJV9l6Xc-2pQ",
    "outputId": "6733c0e4-d2a5-48ca-94e5-9aec0c195822"
   },
   "outputs": [
    {
     "name": "stdout",
     "output_type": "stream",
     "text": [
      "The color of class 5 is:  (38, 112, 0)\n"
     ]
    }
   ],
   "source": [
    "colormap = [[\"#000000\",\"0\",\"0\"],\n",
    " [\"#ffd300\",\"1\",\"1\"],\n",
    " [\"#ff2626\",\"2\",\"2\"],\n",
    " [\"#00a8e2\",\"3\",\"3\"],\n",
    " [\"#ff9e0a\",\"4\",\"4\"],\n",
    " [\"#267000\",\"5\",\"5\"],\n",
    " [\"#ffff00\",\"6\",\"6\"],\n",
    " [\"#000000\",\"7\",\"7\"],\n",
    " [\"#000000\",\"8\",\"8\"],\n",
    " [\"#000000\",\"9\",\"9\"],\n",
    " [\"#70a500\",\"10\",\"10\"],\n",
    " [\"#00af49\",\"11\",\"11\"],\n",
    " [\"#dda50a\",\"12\",\"12\"],\n",
    " [\"#dda50a\",\"13\",\"13\"],\n",
    " [\"#7cd3ff\",\"14\",\"14\"],\n",
    " [\"#000000\",\"15\",\"15\"],\n",
    " [\"#000000\",\"16\",\"16\"],\n",
    " [\"#000000\",\"17\",\"17\"],\n",
    " [\"#000000\",\"18\",\"18\"],\n",
    " [\"#000000\",\"19\",\"19\"],\n",
    " [\"#000000\",\"20\",\"20\"],\n",
    " [\"#e2007c\",\"21\",\"21\"],\n",
    " [\"#896054\",\"22\",\"22\"],\n",
    " [\"#d8b56b\",\"23\",\"23\"],\n",
    " [\"#a57000\",\"24\",\"24\"],\n",
    " [\"#d69ebc\",\"25\",\"25\"],\n",
    " [\"#707000\",\"26\",\"26\"],\n",
    " [\"#aa007c\",\"27\",\"27\"],\n",
    " [\"#a05989\",\"28\",\"28\"],\n",
    " [\"#700049\",\"29\",\"29\"],\n",
    " [\"#d69ebc\",\"30\",\"30\"],\n",
    " [\"#d1ff00\",\"31\",\"31\"],\n",
    " [\"#7c99ff\",\"32\",\"32\"],\n",
    " [\"#d6d600\",\"33\",\"33\"],\n",
    " [\"#d1ff00\",\"34\",\"34\"],\n",
    " [\"#00af49\",\"35\",\"35\"],\n",
    " [\"#ffa5e2\",\"36\",\"36\"],\n",
    " [\"#a5f28c\",\"37\",\"37\"],\n",
    " [\"#00af49\",\"38\",\"38\"],\n",
    " [\"#d69ebc\",\"39\",\"39\"],\n",
    " [\"#000000\",\"40\",\"40\"],\n",
    " [\"#a800e2\",\"41\",\"41\"],\n",
    " [\"#a50000\",\"42\",\"42\"],\n",
    " [\"#702600\",\"43\",\"43\"],\n",
    " [\"#00af49\",\"44\",\"44\"],\n",
    " [\"#af7cff\",\"45\",\"45\"],\n",
    " [\"#702600\",\"46\",\"46\"],\n",
    " [\"#ff6666\",\"47\",\"47\"],\n",
    " [\"#ff6666\",\"48\",\"48\"],\n",
    " [\"#ffcc66\",\"49\",\"49\"],\n",
    " [\"#ff6666\",\"50\",\"50\"],\n",
    " [\"#00af49\",\"51\",\"51\"],\n",
    " [\"#00ddaf\",\"52\",\"52\"],\n",
    " [\"#54ff00\",\"53\",\"53\"],\n",
    " [\"#f2a377\",\"54\",\"54\"],\n",
    " [\"#ff6666\",\"55\",\"55\"],\n",
    " [\"#00af49\",\"56\",\"56\"],\n",
    " [\"#7cd3ff\",\"57\",\"57\"],\n",
    " [\"#e8bfff\",\"58\",\"58\"],\n",
    " [\"#afffdd\",\"59\",\"59\"],\n",
    " [\"#00af49\",\"60\",\"60\"],\n",
    " [\"#bfbf77\",\"61\",\"61\"],\n",
    " [\"#000000\",\"62\",\"62\"],\n",
    " [\"#93cc93\",\"63\",\"63\"],\n",
    " [\"#c6d69e\",\"64\",\"64\"],\n",
    " [\"#ccbfa3\",\"65\",\"65\"],\n",
    " [\"#ff00ff\",\"66\",\"66\"],\n",
    " [\"#ff8eaa\",\"67\",\"67\"],\n",
    " [\"#ba004f\",\"68\",\"68\"],\n",
    " [\"#704489\",\"69\",\"69\"],\n",
    " [\"#007777\",\"70\",\"70\"],\n",
    " [\"#af9970\",\"71\",\"71\"],\n",
    " [\"#ffff7c\",\"72\",\"72\"],\n",
    " [\"#000000\",\"73\",\"73\"],\n",
    " [\"#b5705b\",\"74\",\"74\"],\n",
    " [\"#00a582\",\"75\",\"75\"],\n",
    " [\"#e8d6af\",\"76\",\"76\"],\n",
    " [\"#af9970\",\"77\",\"77\"],\n",
    " [\"#000000\",\"78\",\"78\"],\n",
    " [\"#000000\",\"79\",\"79\"],\n",
    " [\"#000000\",\"80\",\"80\"],\n",
    " [\"#f2f2f2\",\"81\",\"81\"],\n",
    " [\"#999999\",\"82\",\"82\"],\n",
    " [\"#4970a3\",\"83\",\"83\"],\n",
    " [\"#000000\",\"84\",\"84\"],\n",
    " [\"#000000\",\"85\",\"85\"],\n",
    " [\"#000000\",\"86\",\"86\"],\n",
    " [\"#7cafaf\",\"87\",\"87\"],\n",
    " [\"#e8ffbf\",\"88\",\"88\"],\n",
    " [\"#000000\",\"89\",\"89\"],\n",
    " [\"#000000\",\"90\",\"90\"],\n",
    " [\"#000000\",\"91\",\"91\"],\n",
    " [\"#00ffff\",\"92\",\"92\"],\n",
    " [\"#000000\",\"93\",\"93\"],\n",
    " [\"#000000\",\"94\",\"94\"],\n",
    " [\"#000000\",\"95\",\"95\"],\n",
    " [\"#000000\",\"96\",\"96\"],\n",
    " [\"#000000\",\"97\",\"97\"],\n",
    " [\"#000000\",\"98\",\"98\"],\n",
    " [\"#000000\",\"99\",\"99\"],\n",
    " [\"#000000\",\"100\",\"100\"],\n",
    " [\"#000000\",\"101\",\"101\"],\n",
    " [\"#000000\",\"102\",\"102\"],\n",
    " [\"#000000\",\"103\",\"103\"],\n",
    " [\"#000000\",\"104\",\"104\"],\n",
    " [\"#000000\",\"105\",\"105\"],\n",
    " [\"#000000\",\"106\",\"106\"],\n",
    " [\"#000000\",\"107\",\"107\"],\n",
    " [\"#000000\",\"108\",\"108\"],\n",
    " [\"#000000\",\"109\",\"109\"],\n",
    " [\"#000000\",\"110\",\"110\"],\n",
    " [\"#4970a3\",\"111\",\"111\"],\n",
    " [\"#d3e2f9\",\"112\",\"112\"],\n",
    " [\"#000000\",\"113\",\"113\"],\n",
    " [\"#000000\",\"114\",\"114\"],\n",
    " [\"#000000\",\"115\",\"115\"],\n",
    " [\"#000000\",\"116\",\"116\"],\n",
    " [\"#000000\",\"117\",\"117\"],\n",
    " [\"#000000\",\"118\",\"118\"],\n",
    " [\"#000000\",\"119\",\"119\"],\n",
    " [\"#000000\",\"120\",\"120\"],\n",
    " [\"#999999\",\"121\",\"121\"],\n",
    " [\"#999999\",\"122\",\"122\"],\n",
    " [\"#999999\",\"123\",\"123\"],\n",
    " [\"#999999\",\"124\",\"124\"],\n",
    " [\"#000000\",\"125\",\"125\"],\n",
    " [\"#000000\",\"126\",\"126\"],\n",
    " [\"#000000\",\"127\",\"127\"],\n",
    " [\"#000000\",\"128\",\"128\"],\n",
    " [\"#000000\",\"129\",\"129\"],\n",
    " [\"#000000\",\"130\",\"130\"],\n",
    " [\"#ccbfa3\",\"131\",\"131\"],\n",
    " [\"#000000\",\"132\",\"132\"],\n",
    " [\"#000000\",\"133\",\"133\"],\n",
    " [\"#000000\",\"134\",\"134\"],\n",
    " [\"#000000\",\"135\",\"135\"],\n",
    " [\"#000000\",\"136\",\"136\"],\n",
    " [\"#000000\",\"137\",\"137\"],\n",
    " [\"#000000\",\"138\",\"138\"],\n",
    " [\"#000000\",\"139\",\"139\"],\n",
    " [\"#000000\",\"140\",\"140\"],\n",
    " [\"#93cc93\",\"141\",\"141\"],\n",
    " [\"#93cc93\",\"142\",\"142\"],\n",
    " [\"#93cc93\",\"143\",\"143\"],\n",
    " [\"#000000\",\"144\",\"144\"],\n",
    " [\"#000000\",\"145\",\"145\"],\n",
    " [\"#000000\",\"146\",\"146\"],\n",
    " [\"#000000\",\"147\",\"147\"],\n",
    " [\"#000000\",\"148\",\"148\"],\n",
    " [\"#000000\",\"149\",\"149\"],\n",
    " [\"#000000\",\"150\",\"150\"],\n",
    " [\"#000000\",\"151\",\"151\"],\n",
    " [\"#c6d69e\",\"152\",\"152\"],\n",
    " [\"#000000\",\"153\",\"153\"],\n",
    " [\"#000000\",\"154\",\"154\"],\n",
    " [\"#000000\",\"155\",\"155\"],\n",
    " [\"#000000\",\"156\",\"156\"],\n",
    " [\"#000000\",\"157\",\"157\"],\n",
    " [\"#000000\",\"158\",\"158\"],\n",
    " [\"#000000\",\"159\",\"159\"],\n",
    " [\"#000000\",\"160\",\"160\"],\n",
    " [\"#000000\",\"161\",\"161\"],\n",
    " [\"#000000\",\"162\",\"162\"],\n",
    " [\"#000000\",\"163\",\"163\"],\n",
    " [\"#000000\",\"164\",\"164\"],\n",
    " [\"#000000\",\"165\",\"165\"],\n",
    " [\"#000000\",\"166\",\"166\"],\n",
    " [\"#000000\",\"167\",\"167\"],\n",
    " [\"#000000\",\"168\",\"168\"],\n",
    " [\"#000000\",\"169\",\"169\"],\n",
    " [\"#000000\",\"170\",\"170\"],\n",
    " [\"#000000\",\"171\",\"171\"],\n",
    " [\"#000000\",\"172\",\"172\"],\n",
    " [\"#000000\",\"173\",\"173\"],\n",
    " [\"#000000\",\"174\",\"174\"],\n",
    " [\"#000000\",\"175\",\"175\"],\n",
    " [\"#e8ffbf\",\"176\",\"176\"],\n",
    " [\"#000000\",\"177\",\"177\"],\n",
    " [\"#000000\",\"178\",\"178\"],\n",
    " [\"#000000\",\"179\",\"179\"],\n",
    " [\"#000000\",\"180\",\"180\"],\n",
    " [\"#000000\",\"181\",\"181\"],\n",
    " [\"#000000\",\"182\",\"182\"],\n",
    " [\"#000000\",\"183\",\"183\"],\n",
    " [\"#000000\",\"184\",\"184\"],\n",
    " [\"#000000\",\"185\",\"185\"],\n",
    " [\"#000000\",\"186\",\"186\"],\n",
    " [\"#000000\",\"187\",\"187\"],\n",
    " [\"#000000\",\"188\",\"188\"],\n",
    " [\"#000000\",\"189\",\"189\"],\n",
    " [\"#7cafaf\",\"190\",\"190\"],\n",
    " [\"#000000\",\"191\",\"191\"],\n",
    " [\"#000000\",\"192\",\"192\"],\n",
    " [\"#000000\",\"193\",\"193\"],\n",
    " [\"#000000\",\"194\",\"194\"],\n",
    " [\"#7cafaf\",\"195\",\"195\"],\n",
    " [\"#000000\",\"196\",\"196\"],\n",
    " [\"#000000\",\"197\",\"197\"],\n",
    " [\"#000000\",\"198\",\"198\"],\n",
    " [\"#000000\",\"199\",\"199\"],\n",
    " [\"#000000\",\"200\",\"200\"],\n",
    " [\"#000000\",\"201\",\"201\"],\n",
    " [\"#000000\",\"202\",\"202\"],\n",
    " [\"#000000\",\"203\",\"203\"],\n",
    " [\"#00ff8c\",\"204\",\"204\"],\n",
    " [\"#d69ebc\",\"205\",\"205\"],\n",
    " [\"#ff6666\",\"206\",\"206\"],\n",
    " [\"#ff6666\",\"207\",\"207\"],\n",
    " [\"#ff6666\",\"208\",\"208\"],\n",
    " [\"#ff6666\",\"209\",\"209\"],\n",
    " [\"#ff8eaa\",\"210\",\"210\"],\n",
    " [\"#334933\",\"211\",\"211\"],\n",
    " [\"#e27026\",\"212\",\"212\"],\n",
    " [\"#ff6666\",\"213\",\"213\"],\n",
    " [\"#ff6666\",\"214\",\"214\"],\n",
    " [\"#000000\",\"215\",\"215\"],\n",
    " [\"#ff6666\",\"216\",\"216\"],\n",
    " [\"#af9970\",\"217\",\"217\"],\n",
    " [\"#ff8eaa\",\"218\",\"218\"],\n",
    " [\"#ff6666\",\"219\",\"219\"],\n",
    " [\"#ff8eaa\",\"220\",\"220\"],\n",
    " [\"#ff6666\",\"221\",\"221\"],\n",
    " [\"#ff6666\",\"222\",\"222\"],\n",
    " [\"#ff8eaa\",\"223\",\"223\"],\n",
    " [\"#00af49\",\"224\",\"224\"],\n",
    " [\"#ffd300\",\"225\",\"225\"],\n",
    " [\"#ffd300\",\"226\",\"226\"],\n",
    " [\"#ff6666\",\"227\",\"227\"],\n",
    " [\"#000000\",\"228\",\"228\"],\n",
    " [\"#ff6666\",\"229\",\"229\"],\n",
    " [\"#896054\",\"230\",\"230\"],\n",
    " [\"#ff6666\",\"231\",\"231\"],\n",
    " [\"#ff2626\",\"232\",\"232\"],\n",
    " [\"#e2007c\",\"233\",\"233\"],\n",
    " [\"#ff9e0a\",\"234\",\"234\"],\n",
    " [\"#ff9e0a\",\"235\",\"235\"],\n",
    " [\"#a57000\",\"236\",\"236\"],\n",
    " [\"#ffd300\",\"237\",\"237\"],\n",
    " [\"#a57000\",\"238\",\"238\"],\n",
    " [\"#267000\",\"239\",\"239\"],\n",
    " [\"#267000\",\"240\",\"240\"],\n",
    " [\"#ffd300\",\"241\",\"241\"],\n",
    " [\"#000099\",\"242\",\"242\"],\n",
    " [\"#ff6666\",\"243\",\"243\"],\n",
    " [\"#ff6666\",\"244\",\"244\"],\n",
    " [\"#ff6666\",\"245\",\"245\"],\n",
    " [\"#ff6666\",\"246\",\"246\"],\n",
    " [\"#ff6666\",\"247\",\"247\"],\n",
    " [\"#ff6666\",\"248\",\"248\"],\n",
    " [\"#ff6666\",\"249\",\"249\"],\n",
    " [\"#ff6666\",\"250\",\"250\"],\n",
    " [\"#ffd300\",\"251\",\"251\"],\n",
    " [\"#267000\",\"252\",\"252\"],\n",
    " [\"#a57000\",\"253\",\"253\"],\n",
    " [\"#267000\",\"254\",\"254\"],\n",
    " [\"#707000\",\"255\",\"255\"]]\n",
    "\n",
    "\n",
    "def hex_to_rgb(value):\n",
    " value = value.lstrip('#')\n",
    " lv = len(value)\n",
    " return tuple(int(value[i:i + lv // 3], 16) for i in range(0, lv, lv // 3))\n",
    "\n",
    "\n",
    "def getCDLRGB(cdlvalue):\n",
    " # print(\"get cdl:\", cdlvalue)\n",
    " for x in range(len(colormap)):\n",
    "   if(int(colormap[x][1])==cdlvalue):\n",
    "    hex = colormap[x][0]\n",
    "    rgb = hex_to_rgb(hex)\n",
    "    return rgb\n",
    "\n",
    "print(\"The color of class 5 is: \", getCDLRGB(5))"
   ]
  },
  {
   "cell_type": "code",
   "execution_count": 14,
   "metadata": {
    "colab": {},
    "colab_type": "code",
    "collapsed": true,
    "id": "Q_gcQwFR_TB9"
   },
   "outputs": [],
   "source": [
    "label_colours=[np.array(getCDLRGB(i)) for i in range(0,256)]\n",
    "\n",
    "label_colours=np.array(label_colours)\n",
    "def view_annotated(tensor, plot=True):\n",
    "    temp = tensor.numpy()\n",
    "    r = temp.copy()\n",
    "    g = temp.copy()\n",
    "    b = temp.copy()\n",
    "    for l in range(0,256):\n",
    "        r[temp==l]=label_colours[l,0]\n",
    "        g[temp==l]=label_colours[l,1]\n",
    "        b[temp==l]=label_colours[l,2]\n",
    "\n",
    "    rgb = np.zeros((temp.shape[0], temp.shape[1], 3))\n",
    "    rgb[:,:,0] = (r/255.0)#[:,:,0]\n",
    "    rgb[:,:,1] = (g/255.0)#[:,:,1]\n",
    "    rgb[:,:,2] = (b/255.0)#[:,:,2]\n",
    "    if plot:\n",
    "        plt.imshow(rgb)\n",
    "        plt.show()\n",
    "    \n",
    "    "
   ]
  },
  {
   "cell_type": "code",
   "execution_count": 15,
   "metadata": {
    "colab": {},
    "colab_type": "code",
    "collapsed": true,
    "id": "OH4hmrwNAm95"
   },
   "outputs": [],
   "source": [
    "list_images=np.load(\"val_list.npy\")"
   ]
  },
  {
   "cell_type": "code",
   "execution_count": 16,
   "metadata": {
    "colab": {
     "base_uri": "https://localhost:8080/",
     "height": 34
    },
    "colab_type": "code",
    "id": "IE7dhaSt7J5F",
    "outputId": "8dc1d6c6-3026-42fc-b442-cff7c5bb9833"
   },
   "outputs": [
    {
     "data": {
      "text/plain": [
       "180"
      ]
     },
     "execution_count": 17,
     "metadata": {
      "tags": []
     },
     "output_type": "execute_result"
    }
   ],
   "source": [
    "len(list_images)"
   ]
  },
  {
   "cell_type": "markdown",
   "metadata": {},
   "source": [
    "## Generating Segmentation Masks Using The Models"
   ]
  },
  {
   "cell_type": "markdown",
   "metadata": {
    "colab_type": "text",
    "id": "7gnnPVrB7SbM"
   },
   "source": [
    "***THe Ground Truth Image is The First One While The Second One is the Generated Image***"
   ]
  },
  {
   "cell_type": "code",
   "execution_count": 18,
   "metadata": {
    "colab": {
     "base_uri": "https://localhost:8080/",
     "height": 683
    },
    "colab_type": "code",
    "id": "ynHJvPBg_ZDW",
    "outputId": "0dacf8bd-dbae-4a94-fb9a-de69c5d2b9c1"
   },
   "outputs": [
    {
     "data": {
      "image/png": "[encoded data removed]",
      "text/plain": [
       "<Figure size 576x396 with 1 Axes>"
      ]
     },
     "metadata": {
      "tags": []
     },
     "output_type": "display_data"
    },
    {
     "data": {
      "image/png": "[encoded data removed]",
      "text/plain": [
       "<Figure size 576x396 with 1 Axes>"
      ]
     },
     "metadata": {
      "tags": []
     },
     "output_type": "display_data"
    }
   ],
   "source": [
    "import matplotlib.pyplot as plt\n",
    "x,y=full_data.__getitem__(list_images[0])\n",
    "y_pred=m.forward(x[None].cuda())\n",
    "y_pred_cat=torch.argmax(y_pred,dim=1)\n",
    "predicted=view_annotated(y_pred_cat.cpu()[0])\n",
    "original=view_annotated(y.cpu())"
   ]
  },
  {
   "cell_type": "code",
   "execution_count": 19,
   "metadata": {
    "colab": {
     "base_uri": "https://localhost:8080/",
     "height": 683
    },
    "colab_type": "code",
    "id": "NVXKPYW37OJ5",
    "outputId": "5fff08cd-e2d5-49b7-920c-c739fc0851fc"
   },
   "outputs": [
    {
     "data": {
      "image/png": "[encoded data removed]",
      "text/plain": [
       "<Figure size 576x396 with 1 Axes>"
      ]
     },
     "metadata": {
      "tags": []
     },
     "output_type": "display_data"
    },
    {
     "data": {
      "image/png": "[encoded data removed]",
      "text/plain": [
       "<Figure size 576x396 with 1 Axes>"
      ]
     },
     "metadata": {
      "tags": []
     },
     "output_type": "display_data"
    }
   ],
   "source": [
    "import matplotlib.pyplot as plt\n",
    "x,y=full_data.__getitem__(list_images[1])\n",
    "y_pred=m.forward(x[None].cuda())\n",
    "y_pred_cat=torch.argmax(y_pred,dim=1)\n",
    "predicted=view_annotated(y_pred_cat.cpu()[0])\n",
    "original=view_annotated(y.cpu())"
   ]
  },
  {
   "cell_type": "code",
   "execution_count": 20,
   "metadata": {
    "colab": {
     "base_uri": "https://localhost:8080/",
     "height": 683
    },
    "colab_type": "code",
    "id": "kQIPMq067fkk",
    "outputId": "6613d7fa-8098-42fd-8c5b-feb84eaf6210"
   },
   "outputs": [
    {
     "data": {
      "image/png": "[encoded data removed]",
      "text/plain": [
       "<Figure size 576x396 with 1 Axes>"
      ]
     },
     "metadata": {
      "tags": []
     },
     "output_type": "display_data"
    },
    {
     "data": {
      "image/png": "[encoded data removed]",
      "text/plain": [
       "<Figure size 576x396 with 1 Axes>"
      ]
     },
     "metadata": {
      "tags": []
     },
     "output_type": "display_data"
    }
   ],
   "source": [
    "import matplotlib.pyplot as plt\n",
    "x,y=full_data.__getitem__(list_images[2])\n",
    "y_pred=m.forward(x[None].cuda())\n",
    "y_pred_cat=torch.argmax(y_pred,dim=1)\n",
    "predicted=view_annotated(y_pred_cat.cpu()[0])\n",
    "original=view_annotated(y.cpu())"
   ]
  },
  {
   "cell_type": "code",
   "execution_count": 21,
   "metadata": {
    "colab": {},
    "colab_type": "code",
    "collapsed": true,
    "id": "o-VKoiou-Vr5"
   },
   "outputs": [],
   "source": []
  }
 ],
 "metadata": {
  "accelerator": "GPU",
  "colab": {
   "collapsed_sections": [],
   "name": "AGNET_Visualization.ipynb",
   "provenance": [],
   "version": "0.3.2"
  },
  "kernelspec": {
   "display_name": "Python 3",
   "language": "python",
   "name": "python3"
  },
  "language_info": {
   "codemirror_mode": {
    "name": "ipython",
    "version": 3
   },
   "file_extension": ".py",
   "mimetype": "text/x-python",
   "name": "python",
   "nbconvert_exporter": "python",
   "pygments_lexer": "ipython3",
   "version": "3.6.3"
  }
 },
 "nbformat": 4,
 "nbformat_minor": 1
}
